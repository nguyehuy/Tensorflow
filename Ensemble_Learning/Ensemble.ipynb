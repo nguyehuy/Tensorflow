{
  "nbformat": 4,
  "nbformat_minor": 0,
  "metadata": {
    "colab": {
      "name": "Bản sao của Untitled0.ipynb",
      "provenance": []
    },
    "kernelspec": {
      "name": "python3",
      "display_name": "Python 3"
    }
  },
  "cells": [
    {
      "cell_type": "code",
      "metadata": {
        "id": "wun7kGEiQyYC",
        "colab_type": "code",
        "outputId": "bd9b993b-b714-4834-f9b2-a434559efa6f",
        "colab": {
          "base_uri": "https://localhost:8080/",
          "height": 224
        }
      },
      "source": [
        "!apt-get install -y -qq software-properties-common python-software-properties module-init-tools\n",
        "!add-apt-repository -y ppa:alessandro-strada/ppa 2>&1 > /dev/null\n",
        "!apt-get update -qq 2>&1 > /dev/null\n",
        "!apt-get -y install -qq google-drive-ocamlfuse fuse\n",
        "from google.colab import auth\n",
        "auth.authenticate_user()\n",
        "from oauth2client.client import GoogleCredentials\n",
        "creds = GoogleCredentials.get_application_default()\n",
        "import getpass\n",
        "!google-drive-ocamlfuse -headless -id={creds.client_id} -secret={creds.client_secret} < /dev/null 2>&1 | grep URL\n",
        "vcode = getpass.getpass()\n",
        "!echo {vcode} | google-drive-ocamlfuse -headless -id={creds.client_id} -secret={creds.client_secret}"
      ],
      "execution_count": 1,
      "outputs": [
        {
          "output_type": "stream",
          "text": [
            "E: Package 'python-software-properties' has no installation candidate\n",
            "Selecting previously unselected package google-drive-ocamlfuse.\n",
            "(Reading database ... 135004 files and directories currently installed.)\n",
            "Preparing to unpack .../google-drive-ocamlfuse_0.7.14-0ubuntu1~ubuntu18.04.1_amd64.deb ...\n",
            "Unpacking google-drive-ocamlfuse (0.7.14-0ubuntu1~ubuntu18.04.1) ...\n",
            "Setting up google-drive-ocamlfuse (0.7.14-0ubuntu1~ubuntu18.04.1) ...\n",
            "Processing triggers for man-db (2.8.3-2ubuntu0.1) ...\n",
            "Please, open the following URL in a web browser: https://accounts.google.com/o/oauth2/auth?client_id=32555940559.apps.googleusercontent.com&redirect_uri=urn%3Aietf%3Awg%3Aoauth%3A2.0%3Aoob&scope=https%3A%2F%2Fwww.googleapis.com%2Fauth%2Fdrive&response_type=code&access_type=offline&approval_prompt=force\n",
            "··········\n",
            "Please, open the following URL in a web browser: https://accounts.google.com/o/oauth2/auth?client_id=32555940559.apps.googleusercontent.com&redirect_uri=urn%3Aietf%3Awg%3Aoauth%3A2.0%3Aoob&scope=https%3A%2F%2Fwww.googleapis.com%2Fauth%2Fdrive&response_type=code&access_type=offline&approval_prompt=force\n",
            "Please enter the verification code: Access token retrieved correctly.\n"
          ],
          "name": "stdout"
        }
      ]
    },
    {
      "cell_type": "code",
      "metadata": {
        "id": "hv8y991zQ-N1",
        "colab_type": "code",
        "colab": {}
      },
      "source": [
        "!mkdir -p drive\n",
        "!google-drive-ocamlfuse drive"
      ],
      "execution_count": 0,
      "outputs": []
    },
    {
      "cell_type": "code",
      "metadata": {
        "id": "ZMvBiW9URCXP",
        "colab_type": "code",
        "colab": {}
      },
      "source": [
        "import os\n",
        "os.chdir('drive/Tensorflow/Ensemble_Learning')"
      ],
      "execution_count": 0,
      "outputs": []
    },
    {
      "cell_type": "code",
      "metadata": {
        "id": "jzbweJKlh4CU",
        "colab_type": "code",
        "colab": {}
      },
      "source": [
        "import matplotlib.pyplot as plt\n",
        "import numpy as np\n",
        "from sklearn.metrics import confusion_matrix\n",
        "import time\n",
        "from datetime import timedelta\n",
        "import math"
      ],
      "execution_count": 0,
      "outputs": []
    },
    {
      "cell_type": "code",
      "metadata": {
        "id": "xWqjbll-iywI",
        "colab_type": "code",
        "outputId": "3b85e0b9-01a1-4231-b972-508a0df87071",
        "colab": {
          "base_uri": "https://localhost:8080/",
          "height": 80
        }
      },
      "source": [
        "import tensorflow as tf\n",
        "from tensorflow.keras import  Sequential\n",
        "from tensorflow.keras.models import  Model\n",
        "from tensorflow.keras.layers import InputLayer, Input, Reshape, MaxPool2D, Conv2D, Dense, Flatten, Activation, Dropout, MaxPooling2D\n",
        "from tensorflow.keras.layers import BatchNormalization, ZeroPadding2D \n",
        "from tensorflow.keras import regularizers, optimizers\n",
        "from keras.initializers import glorot_uniform\n"
      ],
      "execution_count": 4,
      "outputs": [
        {
          "output_type": "display_data",
          "data": {
            "text/html": [
              "<p style=\"color: red;\">\n",
              "The default version of TensorFlow in Colab will soon switch to TensorFlow 2.x.<br>\n",
              "We recommend you <a href=\"https://www.tensorflow.org/guide/migrate\" target=\"_blank\">upgrade</a> now \n",
              "or ensure your notebook will continue to use TensorFlow 1.x via the <code>%tensorflow_version 1.x</code> magic:\n",
              "<a href=\"https://colab.research.google.com/notebooks/tensorflow_version.ipynb\" target=\"_blank\">more info</a>.</p>\n"
            ],
            "text/plain": [
              "<IPython.core.display.HTML object>"
            ]
          },
          "metadata": {
            "tags": []
          }
        },
        {
          "output_type": "stream",
          "text": [
            "Using TensorFlow backend.\n"
          ],
          "name": "stderr"
        }
      ]
    },
    {
      "cell_type": "code",
      "metadata": {
        "id": "2mxAM6gijmJF",
        "colab_type": "code",
        "outputId": "797b82e5-a190-4b0b-d927-00f031aa740b",
        "colab": {
          "base_uri": "https://localhost:8080/",
          "height": 411
        }
      },
      "source": [
        "#Read the data from mnist in tensofflow\n",
        "from tensorflow.examples.tutorials.mnist import input_data\n",
        "data=input_data.read_data_sets('data/MNIST/', one_hot=True)"
      ],
      "execution_count": 5,
      "outputs": [
        {
          "output_type": "stream",
          "text": [
            "WARNING:tensorflow:From <ipython-input-5-edb9644c7fa7>:2: read_data_sets (from tensorflow.contrib.learn.python.learn.datasets.mnist) is deprecated and will be removed in a future version.\n",
            "Instructions for updating:\n",
            "Please use alternatives such as official/mnist/dataset.py from tensorflow/models.\n",
            "WARNING:tensorflow:From /usr/local/lib/python3.6/dist-packages/tensorflow_core/contrib/learn/python/learn/datasets/mnist.py:260: maybe_download (from tensorflow.contrib.learn.python.learn.datasets.base) is deprecated and will be removed in a future version.\n",
            "Instructions for updating:\n",
            "Please write your own downloading logic.\n",
            "WARNING:tensorflow:From /usr/local/lib/python3.6/dist-packages/tensorflow_core/contrib/learn/python/learn/datasets/mnist.py:262: extract_images (from tensorflow.contrib.learn.python.learn.datasets.mnist) is deprecated and will be removed in a future version.\n",
            "Instructions for updating:\n",
            "Please use tf.data to implement this functionality.\n",
            "Extracting data/MNIST/train-images-idx3-ubyte.gz\n",
            "WARNING:tensorflow:From /usr/local/lib/python3.6/dist-packages/tensorflow_core/contrib/learn/python/learn/datasets/mnist.py:267: extract_labels (from tensorflow.contrib.learn.python.learn.datasets.mnist) is deprecated and will be removed in a future version.\n",
            "Instructions for updating:\n",
            "Please use tf.data to implement this functionality.\n",
            "Extracting data/MNIST/train-labels-idx1-ubyte.gz\n",
            "WARNING:tensorflow:From /usr/local/lib/python3.6/dist-packages/tensorflow_core/contrib/learn/python/learn/datasets/mnist.py:110: dense_to_one_hot (from tensorflow.contrib.learn.python.learn.datasets.mnist) is deprecated and will be removed in a future version.\n",
            "Instructions for updating:\n",
            "Please use tf.one_hot on tensors.\n",
            "Extracting data/MNIST/t10k-images-idx3-ubyte.gz\n",
            "Extracting data/MNIST/t10k-labels-idx1-ubyte.gz\n",
            "WARNING:tensorflow:From /usr/local/lib/python3.6/dist-packages/tensorflow_core/contrib/learn/python/learn/datasets/mnist.py:290: DataSet.__init__ (from tensorflow.contrib.learn.python.learn.datasets.mnist) is deprecated and will be removed in a future version.\n",
            "Instructions for updating:\n",
            "Please use alternatives such as official/mnist/dataset.py from tensorflow/models.\n"
          ],
          "name": "stdout"
        }
      ]
    },
    {
      "cell_type": "code",
      "metadata": {
        "id": "S1W79AiRKJDt",
        "colab_type": "code",
        "outputId": "00f31948-2fdc-449e-cbd3-4ec12054b4c8",
        "colab": {
          "base_uri": "https://localhost:8080/",
          "height": 68
        }
      },
      "source": [
        "print('Size of training set: \\t\\t{}'.format(len(data.train.labels)))\n",
        "print('Size of test set: \\t\\t{}'.format(len(data.test.labels)))\n",
        "print('Size of validation set: \\t{}'.format(len(data.validation.labels)))"
      ],
      "execution_count": 0,
      "outputs": [
        {
          "output_type": "stream",
          "text": [
            "Size of training set: \t\t55000\n",
            "Size of test set: \t\t10000\n",
            "Size of validation set: \t5000\n"
          ],
          "name": "stdout"
        }
      ]
    },
    {
      "cell_type": "code",
      "metadata": {
        "id": "vRdrnMr3j1vA",
        "colab_type": "code",
        "colab": {}
      },
      "source": [
        "#Define some static variables\n",
        "\n",
        "img_size= 28 # Image size\n",
        "img_size_flat= img_size*img_size\n",
        "num_classes=10 #Number of the classes\n",
        "num_channels=1 # Number of channel "
      ],
      "execution_count": 0,
      "outputs": []
    },
    {
      "cell_type": "markdown",
      "metadata": {
        "id": "UgqfDIGQkc8d",
        "colab_type": "text"
      },
      "source": [
        "###Load data"
      ]
    },
    {
      "cell_type": "code",
      "metadata": {
        "id": "6bwhib_9kL3_",
        "colab_type": "code",
        "colab": {}
      },
      "source": [
        "X_train_org=np.array(data.train.images.reshape((-1, img_size, img_size)))\n",
        "X_test_org=np.array(data.test.images.reshape((-1, img_size, img_size)))\n",
        "X_validation_org=np.array(data.validation.images.reshape((-1, img_size, img_size)))\n",
        "\n",
        "y_train=np.array(data.train.labels)\n",
        "y_test=np.array(data.test.labels)\n",
        "y_validation=np.array(data.validation.labels)\n",
        "\n",
        "y_train_cls=np.argmax(y_train, axis=1)\n",
        "y_test_cls=np.argmax(y_test, axis=1)\n",
        "y_validation_cls=np.argmax(y_validation, axis=1)"
      ],
      "execution_count": 0,
      "outputs": []
    },
    {
      "cell_type": "markdown",
      "metadata": {
        "id": "6_W9G7lHMVQk",
        "colab_type": "text"
      },
      "source": [
        "### Create the random training-set"
      ]
    },
    {
      "cell_type": "code",
      "metadata": {
        "id": "hJyam0MwMUdD",
        "colab_type": "code",
        "colab": {}
      },
      "source": [
        "#Concatenate the training set and validation set\n",
        "train_vali_org=np.concatenate([X_train_org, X_validation_org], axis=0)\n",
        "train_vali_labels=np.concatenate([y_train, y_validation], axis=0)"
      ],
      "execution_count": 0,
      "outputs": []
    },
    {
      "cell_type": "code",
      "metadata": {
        "id": "PygzVouxa3Lr",
        "colab_type": "code",
        "colab": {
          "base_uri": "https://localhost:8080/",
          "height": 51
        },
        "outputId": "0e9ea513-338a-4cb7-fb36-461a1188e536"
      },
      "source": [
        "print(train_vali_org.shape)\n",
        "print(train_vali_labels.shape)"
      ],
      "execution_count": 12,
      "outputs": [
        {
          "output_type": "stream",
          "text": [
            "(60000, 28, 28)\n",
            "(60000, 10)\n"
          ],
          "name": "stdout"
        }
      ]
    },
    {
      "cell_type": "code",
      "metadata": {
        "id": "ZEdCTuDhbB_J",
        "colab_type": "code",
        "colab": {
          "base_uri": "https://localhost:8080/",
          "height": 34
        },
        "outputId": "d9f6360b-819c-48f3-bb9d-2dd5babf9212"
      },
      "source": [
        "#Define the size of the random training set (80 % of the train_vali_set)\n",
        "train_size= int(0.8*len(train_vali_org))\n",
        "print(train_size)"
      ],
      "execution_count": 14,
      "outputs": [
        {
          "output_type": "stream",
          "text": [
            "48000\n"
          ],
          "name": "stdout"
        }
      ]
    },
    {
      "cell_type": "code",
      "metadata": {
        "id": "x1Z6vYRjbfSA",
        "colab_type": "code",
        "colab": {}
      },
      "source": [
        "#Define a fucntion to get the random training set and validation set from the train_vali_set\n",
        "def get_random_training_set():\n",
        "    #Random the index\n",
        "    idx=np.random.permutation(len(train_vali_org))\n",
        "\n",
        "    #Create the index random training set and validation\n",
        "    idx_train=idx[0: train_size]\n",
        "    idx_vali=idx[train_size:]\n",
        "\n",
        "    #Create the random training set and validation\n",
        "    X_train_org=train_vali_org[idx_train, :]\n",
        "    X_validation_org=train_vali_org[idx_vali, :]\n",
        "\n",
        "    y_train=train_vali_labels[idx_train, :]\n",
        "    y_validation=train_vali_labels[idx_vali, :]\n",
        "\n",
        "    y_train_cls=np.argmax(y_train, axis=1)\n",
        "    y_validation_cls=np.argmax(y_validation, axis=1)\n",
        "\n",
        "    return X_train_org, y_train, X_validation_org, y_validation, y_train_cls, y_validation_cls"
      ],
      "execution_count": 0,
      "outputs": []
    },
    {
      "cell_type": "markdown",
      "metadata": {
        "id": "9M5nBADxlgQp",
        "colab_type": "text"
      },
      "source": [
        "###Function to plot images"
      ]
    },
    {
      "cell_type": "code",
      "metadata": {
        "id": "wFEQA-EKlTjK",
        "colab_type": "code",
        "colab": {}
      },
      "source": [
        "def plot_images(images, cls_true, best_cls_pred=None, ensemble_cls_pred=None):\n",
        "    plt.figure(figsize=(10,10))\n",
        "    \n",
        "    for i in range(min(25, len(images))):\n",
        "        plt.subplot(5, 5, i+1)\n",
        "        if ensemble_cls_pred is None and best_cls_pred is None:\n",
        "            plt.xlabel('True {0}'.format(cls_true[i]))\n",
        "        elif ensemble_cls_pred is None and best_cls_pred is not None:\n",
        "            plt.xlabel('True {0}, Pred: {1}'.format(cls_true[i], best_cls_pred[i]))\n",
        "        elif ensemble_cls_pred is not None and best_cls_pred is not None:\n",
        "            plt.xlabel('True {0},\\n Pred: {1},\\n Ensem: {2}'.format(cls_true[i], best_cls_pred[i], ensemble_cls_pred[i]))\n",
        "        plt.xticks([])\n",
        "        plt.yticks([])\n",
        "        plt.imshow(images[i])\n",
        "    plt.show()\n"
      ],
      "execution_count": 0,
      "outputs": []
    },
    {
      "cell_type": "code",
      "metadata": {
        "id": "aizaOM1ZpN_D",
        "colab_type": "code",
        "outputId": "ec9b38ec-9b9a-47bf-b833-9626aec1e707",
        "colab": {
          "base_uri": "https://localhost:8080/",
          "height": 589
        }
      },
      "source": [
        "## Plot some images to see the true label in train dataset\n",
        "\n",
        "plot_images(X_train_org, y_train_cls)"
      ],
      "execution_count": 17,
      "outputs": [
        {
          "output_type": "display_data",
          "data": {
            "image/png": "[encoded data removed]",
            "text/plain": [
              "<Figure size 720x720 with 25 Axes>"
            ]
          },
          "metadata": {
            "tags": []
          }
        }
      ]
    },
    {
      "cell_type": "markdown",
      "metadata": {
        "id": "fKrW-6MGrp4S",
        "colab_type": "text"
      },
      "source": [
        "### Create ensemble and design the model "
      ]
    },
    {
      "cell_type": "code",
      "metadata": {
        "id": "ZM1325M9sj2R",
        "colab_type": "code",
        "colab": {}
      },
      "source": [
        "# Create the fix model\n",
        "def fix_model():\n",
        "    X_input=Input(shape=(img_size, img_size))\n",
        "\n",
        "    #Reshape the input\n",
        "    inputs= Reshape((img_size, img_size, num_channels)) (X_input)\n",
        "\n",
        "    #First layeyes with re-lu activation and maxpooling\n",
        "    inputs=Conv2D(filters=16, kernel_size=5, strides=1, padding='same', activation='relu') (inputs)\n",
        "    inputs=MaxPool2D(pool_size=2, strides=2) (inputs)\n",
        "\n",
        "    #Second layer with relu function and max pooling\n",
        "    inputs=Conv2D(filters=36, kernel_size=5, strides=1, padding='same', activation='relu') (inputs)\n",
        "    inputs=MaxPool2D(pool_size=2, strides=2) (inputs)\n",
        "\n",
        "    #Flatten layers\n",
        "    inputs=Flatten() (inputs)\n",
        "\n",
        "    #Fully conected\n",
        "    inputs=Dense(128, activation='relu') (inputs)\n",
        "\n",
        "    #Last fully connected layers\n",
        "    inputs=Dense(num_classes, activation='softmax') (inputs)\n",
        "\n",
        "    outputs=inputs\n",
        "    model=Model(inputs=X_input, outputs=outputs)\n",
        "    return model"
      ],
      "execution_count": 0,
      "outputs": []
    },
    {
      "cell_type": "code",
      "metadata": {
        "id": "DQg1EcH5kbe9",
        "colab_type": "code",
        "colab": {}
      },
      "source": [
        "# Define the function to get the prediction of ensemble (mean of the predictions of networks)\n",
        "def ensemble_predictions(models, test):\n",
        "    prediction=[]\n",
        "    for model in models:\n",
        "        prediction.append(model.predict(test))\n",
        "    prediction=np.array(prediction)\n",
        "    prediction=np.mean(prediction, axis=0)\n",
        "    prediction_cls=np.argmax(prediction, axis=1)\n",
        "    return prediction, prediction_cls"
      ],
      "execution_count": 0,
      "outputs": []
    },
    {
      "cell_type": "code",
      "metadata": {
        "id": "BA_4_rvTpyR8",
        "colab_type": "code",
        "colab": {}
      },
      "source": [
        "# Compute the accuracy of the ensemble\n",
        "def ensemble_acc(prediction_cls):\n",
        "    correct_prediction=np.sum(prediction_cls==y_test_cls)\n",
        "    return correct_prediction/ len(prediction_cls)"
      ],
      "execution_count": 0,
      "outputs": []
    },
    {
      "cell_type": "code",
      "metadata": {
        "id": "VwN0CpD4lGGM",
        "colab_type": "code",
        "colab": {}
      },
      "source": [
        "# Compute the accuracy of individual network\n",
        "def evalutions(models):\n",
        "    accuracies=[]\n",
        "    for model in models:\n",
        "        acc= model.evaluate(X_test, y_test)[1]\n",
        "        accuracies.append(acc)\n",
        "    return accuracies"
      ],
      "execution_count": 0,
      "outputs": []
    },
    {
      "cell_type": "code",
      "metadata": {
        "id": "84-d2u7ZopdN",
        "colab_type": "code",
        "colab": {}
      },
      "source": [
        "#Define the number of network\n",
        "num_net=5"
      ],
      "execution_count": 0,
      "outputs": []
    },
    {
      "cell_type": "code",
      "metadata": {
        "id": "HXSacRhksObg",
        "colab_type": "code",
        "colab": {}
      },
      "source": [
        "#Normalize test set\n",
        "X_test=X_test_org/255"
      ],
      "execution_count": 0,
      "outputs": []
    },
    {
      "cell_type": "code",
      "metadata": {
        "id": "CTA15QkbojGK",
        "colab_type": "code",
        "colab": {
          "base_uri": "https://localhost:8080/",
          "height": 952
        },
        "outputId": "aa024576-0ef9-488b-97a3-f925612d8944"
      },
      "source": [
        "# fit individual and save it\n",
        "models=[]\n",
        "for i in range(num_net):\n",
        "    #Get the random training set\n",
        "    X_train, y_train,_, _, _, _= get_random_training_set()\n",
        "    X_train=X_train/255\n",
        "\n",
        "    model=fix_model()\n",
        "    model.compile(loss='categorical_crossentropy', optimizer='Adam', metrics=['accuracy'])\n",
        "    model.fit(X_train, y_train, batch_size=256, epochs=5)\n",
        "    models.append(model)"
      ],
      "execution_count": 36,
      "outputs": [
        {
          "output_type": "stream",
          "text": [
            "Train on 48000 samples\n",
            "Epoch 1/5\n",
            "48000/48000 [==============================] - 46s 957us/sample - loss: 1.4467 - acc: 0.5365\n",
            "Epoch 2/5\n",
            "48000/48000 [==============================] - 45s 947us/sample - loss: 0.4249 - acc: 0.8750\n",
            "Epoch 3/5\n",
            "48000/48000 [==============================] - 45s 948us/sample - loss: 0.3097 - acc: 0.9065\n",
            "Epoch 4/5\n",
            "48000/48000 [==============================] - 46s 949us/sample - loss: 0.2513 - acc: 0.9234\n",
            "Epoch 5/5\n",
            "48000/48000 [==============================] - 45s 943us/sample - loss: 0.2114 - acc: 0.9348\n",
            "Train on 48000 samples\n",
            "Epoch 1/5\n",
            "48000/48000 [==============================] - 45s 946us/sample - loss: 1.6262 - acc: 0.4528\n",
            "Epoch 2/5\n",
            "48000/48000 [==============================] - 46s 956us/sample - loss: 0.4466 - acc: 0.8665\n",
            "Epoch 3/5\n",
            "48000/48000 [==============================] - 46s 957us/sample - loss: 0.3212 - acc: 0.9021\n",
            "Epoch 4/5\n",
            "48000/48000 [==============================] - 46s 961us/sample - loss: 0.2627 - acc: 0.9194\n",
            "Epoch 5/5\n",
            "48000/48000 [==============================] - 46s 960us/sample - loss: 0.2227 - acc: 0.9316\n",
            "Train on 48000 samples\n",
            "Epoch 1/5\n",
            "48000/48000 [==============================] - 46s 960us/sample - loss: 1.5639 - acc: 0.4856\n",
            "Epoch 2/5\n",
            "48000/48000 [==============================] - 46s 957us/sample - loss: 0.4535 - acc: 0.8634\n",
            "Epoch 3/5\n",
            "48000/48000 [==============================] - 46s 958us/sample - loss: 0.3127 - acc: 0.9046\n",
            "Epoch 4/5\n",
            "48000/48000 [==============================] - 46s 955us/sample - loss: 0.2466 - acc: 0.9243\n",
            "Epoch 5/5\n",
            "48000/48000 [==============================] - 46s 959us/sample - loss: 0.2028 - acc: 0.9372\n",
            "Train on 48000 samples\n",
            "Epoch 1/5\n",
            "48000/48000 [==============================] - 46s 957us/sample - loss: 1.5464 - acc: 0.4889\n",
            "Epoch 2/5\n",
            "48000/48000 [==============================] - 46s 950us/sample - loss: 0.4747 - acc: 0.8585\n",
            "Epoch 3/5\n",
            "48000/48000 [==============================] - 46s 952us/sample - loss: 0.3441 - acc: 0.8968\n",
            "Epoch 4/5\n",
            "48000/48000 [==============================] - 46s 951us/sample - loss: 0.2805 - acc: 0.9146\n",
            "Epoch 5/5\n",
            "48000/48000 [==============================] - 46s 949us/sample - loss: 0.2374 - acc: 0.9271\n",
            "Train on 48000 samples\n",
            "Epoch 1/5\n",
            "48000/48000 [==============================] - 46s 959us/sample - loss: 1.4805 - acc: 0.5419\n",
            "Epoch 2/5\n",
            "48000/48000 [==============================] - 46s 955us/sample - loss: 0.4675 - acc: 0.8608\n",
            "Epoch 3/5\n",
            "48000/48000 [==============================] - 46s 956us/sample - loss: 0.3442 - acc: 0.8968\n",
            "Epoch 4/5\n",
            "48000/48000 [==============================] - 46s 953us/sample - loss: 0.2865 - acc: 0.9126\n",
            "Epoch 5/5\n",
            "48000/48000 [==============================] - 46s 955us/sample - loss: 0.2423 - acc: 0.9265\n"
          ],
          "name": "stdout"
        }
      ]
    },
    {
      "cell_type": "code",
      "metadata": {
        "id": "Wu69l8Mcuzv3",
        "colab_type": "code",
        "colab": {}
      },
      "source": [
        ""
      ],
      "execution_count": 0,
      "outputs": []
    },
    {
      "cell_type": "markdown",
      "metadata": {
        "id": "arMKLLwoun21",
        "colab_type": "text"
      },
      "source": [
        "### Ensemble and best model"
      ]
    },
    {
      "cell_type": "code",
      "metadata": {
        "id": "CrfHyMzGvpU2",
        "colab_type": "code",
        "colab": {
          "base_uri": "https://localhost:8080/",
          "height": 119
        },
        "outputId": "99f4190c-2ce9-4b2e-8a9a-71dd823d69eb"
      },
      "source": [
        "accuracies=evalutions(models)\n",
        "#The accuracy of the best model\n",
        "print('Accuracy of the best model {0}'.format(np.max(accuracies)))"
      ],
      "execution_count": 59,
      "outputs": [
        {
          "output_type": "stream",
          "text": [
            "10000/10000 [==============================] - 5s 457us/sample - loss: 0.1779 - acc: 0.9451\n",
            "10000/10000 [==============================] - 5s 458us/sample - loss: 0.1894 - acc: 0.9429\n",
            "10000/10000 [==============================] - 5s 454us/sample - loss: 0.1830 - acc: 0.9441\n",
            "10000/10000 [==============================] - 5s 457us/sample - loss: 0.2030 - acc: 0.9374\n",
            "10000/10000 [==============================] - 5s 456us/sample - loss: 0.2122 - acc: 0.9357\n",
            "Accuracy of the best model 0.9451000094413757\n"
          ],
          "name": "stdout"
        }
      ]
    },
    {
      "cell_type": "code",
      "metadata": {
        "id": "CozUDK5luhsQ",
        "colab_type": "code",
        "colab": {}
      },
      "source": [
        "#Get the best model\n",
        "best_model=models[np.argmax(accuracies)]\n",
        "\n",
        "#The predictions of best model\n",
        "best_pred=best_model.predict(X_test)\n",
        "best_pred_cls=np.argmax(best_pred, axis=1)"
      ],
      "execution_count": 0,
      "outputs": []
    },
    {
      "cell_type": "code",
      "metadata": {
        "id": "9hW2qAMvwDSr",
        "colab_type": "code",
        "colab": {
          "base_uri": "https://localhost:8080/",
          "height": 34
        },
        "outputId": "8db9a7e0-2021-4ad5-f1a5-dc6a44f34993"
      },
      "source": [
        "#Get the pedictions of the ensemble model\n",
        "ensenble_pred, ensenble_pred_cls =ensemble_predictions(models, X_test)\n",
        "\n",
        "#Get the accuracy of the ensemble\n",
        "print(ensemble_acc(ensenble_pred_cls))"
      ],
      "execution_count": 61,
      "outputs": [
        {
          "output_type": "stream",
          "text": [
            "0.9443\n"
          ],
          "name": "stdout"
        }
      ]
    },
    {
      "cell_type": "markdown",
      "metadata": {
        "id": "kWkoQX7nzlEM",
        "colab_type": "text"
      },
      "source": [
        "### Comprision "
      ]
    },
    {
      "cell_type": "code",
      "metadata": {
        "id": "YCgmtOUbzjn2",
        "colab_type": "code",
        "colab": {
          "base_uri": "https://localhost:8080/",
          "height": 612
        },
        "outputId": "298258a5-aba0-4b5c-8dea-6b2b43b1fa3e"
      },
      "source": [
        "#plot the predictions \n",
        "\n",
        "#Get the data that has differnt prediction fropm best model and ensemble \n",
        "mask= best_pred_cls !=ensenble_pred_cls\n",
        "\n",
        "plot_images(X_test_org[mask], y_test_cls[mask], best_pred_cls, ensenble_pred_cls)"
      ],
      "execution_count": 66,
      "outputs": [
        {
          "output_type": "display_data",
          "data": {
            "image/png": "[encoded data removed]",
            "text/plain": [
              "<Figure size 720x720 with 25 Axes>"
            ]
          },
          "metadata": {
            "tags": []
          }
        }
      ]
    },
    {
      "cell_type": "code",
      "metadata": {
        "id": "l9FehyhE0q9k",
        "colab_type": "code",
        "colab": {}
      },
      "source": [
        ""
      ],
      "execution_count": 0,
      "outputs": []
    }
  ]
}