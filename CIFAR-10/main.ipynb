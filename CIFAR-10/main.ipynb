{
  "nbformat": 4,
  "nbformat_minor": 0,
  "metadata": {
    "colab": {
      "name": "Untitled0.ipynb",
      "provenance": []
    },
    "kernelspec": {
      "name": "python3",
      "display_name": "Python 3"
    }
  },
  "cells": [
    {
      "cell_type": "code",
      "metadata": {
        "id": "pLaVHWVFRwWd",
        "colab_type": "code",
        "colab": {
          "base_uri": "https://localhost:8080/",
          "height": 224
        },
        "outputId": "174093e2-9552-4572-8781-71714fe6114d"
      },
      "source": [
        "!apt-get install -y -qq software-properties-common python-software-properties module-init-tools\n",
        "!add-apt-repository -y ppa:alessandro-strada/ppa 2>&1 > /dev/null\n",
        "!apt-get update -qq 2>&1 > /dev/null\n",
        "!apt-get -y install -qq google-drive-ocamlfuse fuse\n",
        "from google.colab import auth\n",
        "auth.authenticate_user()\n",
        "from oauth2client.client import GoogleCredentials\n",
        "creds = GoogleCredentials.get_application_default()\n",
        "import getpass\n",
        "!google-drive-ocamlfuse -headless -id={creds.client_id} -secret={creds.client_secret} < /dev/null 2>&1 | grep URL\n",
        "vcode = getpass.getpass()\n",
        "!echo {vcode} | google-drive-ocamlfuse -headless -id={creds.client_id} -secret={creds.client_secret}"
      ],
      "execution_count": 1,
      "outputs": [
        {
          "output_type": "stream",
          "text": [
            "E: Package 'python-software-properties' has no installation candidate\n",
            "Selecting previously unselected package google-drive-ocamlfuse.\n",
            "(Reading database ... 135004 files and directories currently installed.)\n",
            "Preparing to unpack .../google-drive-ocamlfuse_0.7.14-0ubuntu1~ubuntu18.04.1_amd64.deb ...\n",
            "Unpacking google-drive-ocamlfuse (0.7.14-0ubuntu1~ubuntu18.04.1) ...\n",
            "Setting up google-drive-ocamlfuse (0.7.14-0ubuntu1~ubuntu18.04.1) ...\n",
            "Processing triggers for man-db (2.8.3-2ubuntu0.1) ...\n",
            "Please, open the following URL in a web browser: https://accounts.google.com/o/oauth2/auth?client_id=32555940559.apps.googleusercontent.com&redirect_uri=urn%3Aietf%3Awg%3Aoauth%3A2.0%3Aoob&scope=https%3A%2F%2Fwww.googleapis.com%2Fauth%2Fdrive&response_type=code&access_type=offline&approval_prompt=force\n",
            "··········\n",
            "Please, open the following URL in a web browser: https://accounts.google.com/o/oauth2/auth?client_id=32555940559.apps.googleusercontent.com&redirect_uri=urn%3Aietf%3Awg%3Aoauth%3A2.0%3Aoob&scope=https%3A%2F%2Fwww.googleapis.com%2Fauth%2Fdrive&response_type=code&access_type=offline&approval_prompt=force\n",
            "Please enter the verification code: Access token retrieved correctly.\n"
          ],
          "name": "stdout"
        }
      ]
    },
    {
      "cell_type": "code",
      "metadata": {
        "id": "fu8HAtAYR33S",
        "colab_type": "code",
        "colab": {}
      },
      "source": [
        "!mkdir -p drive\n",
        "!google-drive-ocamlfuse drive"
      ],
      "execution_count": 0,
      "outputs": []
    },
    {
      "cell_type": "code",
      "metadata": {
        "id": "ibh6K8p3R5tD",
        "colab_type": "code",
        "colab": {}
      },
      "source": [
        "import os\n",
        "os.chdir('drive/Tensorflow/CIFAR-10')"
      ],
      "execution_count": 0,
      "outputs": []
    },
    {
      "cell_type": "markdown",
      "metadata": {
        "id": "fsiqFFV5Ti2e",
        "colab_type": "text"
      },
      "source": [
        "### Load data CIFAR-10"
      ]
    },
    {
      "cell_type": "code",
      "metadata": {
        "id": "T3e9-CiUT7Eq",
        "colab_type": "code",
        "colab": {}
      },
      "source": [
        "import numpy as np\n",
        "import pickle\n",
        "import urllib.request\n",
        "import tarfile\n",
        "import zipfile\n",
        "import pickle"
      ],
      "execution_count": 0,
      "outputs": []
    },
    {
      "cell_type": "code",
      "metadata": {
        "id": "gtSt1nZrR_H7",
        "colab_type": "code",
        "colab": {}
      },
      "source": [
        "#Define the path to contain data\n",
        "data_path='data/CIFAR-10'\n",
        "\n",
        "#Define the path to get data from Internet\n",
        "url='https://www.cs.toronto.edu/~kriz/cifar-10-python.tar.gz'\n",
        "\n",
        "#Width and height for the images\n",
        "img_size=32\n",
        "\n",
        "#Number channels \n",
        "num_channels=3\n",
        "\n",
        "#Number of classes\n",
        "num_classes=10\n",
        "\n",
        "#Number the files for training set\n",
        "_num_files_train=5\n",
        "\n",
        "#Number the images per file\n",
        "_num_imgages_per_file=10000"
      ],
      "execution_count": 0,
      "outputs": []
    },
    {
      "cell_type": "code",
      "metadata": {
        "id": "cgjPUmw4V-ka",
        "colab_type": "code",
        "colab": {
          "base_uri": "https://localhost:8080/",
          "height": 34
        },
        "outputId": "50fc1228-b9ed-4334-88d5-818925e6aacb"
      },
      "source": [
        "url.split('/')[-1]"
      ],
      "execution_count": 8,
      "outputs": [
        {
          "output_type": "execute_result",
          "data": {
            "text/plain": [
              "'cifar-10-python.tar.gz'"
            ]
          },
          "metadata": {
            "tags": []
          },
          "execution_count": 8
        }
      ]
    },
    {
      "cell_type": "code",
      "metadata": {
        "id": "KAjzewLxU2um",
        "colab_type": "code",
        "colab": {}
      },
      "source": [
        "#Define fuction to download data from Internet and extract it\n",
        "\n",
        "def download_and_extract(url, down_dir):\n",
        "    \"\"\"\n",
        "    Download and extract the data if it doesn't already exist.\n",
        "    Assumes the url is a tar-ball file.\n",
        "    url --string :\n",
        "        Internet URL for the tar-file to download.\n",
        "    download_dir-- string:\n",
        "        Directory where the downloaded file is saved.\n",
        "        Example: \"data/CIFAR-10/\"\n",
        "    :return:\n",
        "        Nothing.\n",
        "    \"\"\" \n",
        "\n",
        "    #Define the file name for saving in local machine\n",
        "    file_name=url.split('/')[-1]\n",
        "    file_path=os.path.join(down_dir ,file_name)\n",
        "\n",
        "    #Check the file already downloaded or not\n",
        "    if not os.path.exists(file_path):\n",
        "        #Check the down_dir existed or noe\n",
        "        if not os.path.exists(down_dir):\n",
        "            os.makedirs(down_dir)\n",
        "        \n",
        "        #Start downloading data from the url\n",
        "\n",
        "        file_path, _= urllib.request.urlretrieve(url=url, filename=file_path)\n",
        "\n",
        "        print('Download successfully')\n",
        "\n",
        "        #Extract file\n",
        "\n",
        "        if file_path.endswith(\".zip\"):\n",
        "            zipfile.ZipFile(file=file_path, mode='r').extractall(down_dir)\n",
        "\n",
        "        elif file_path.endswith((\".tar.gz\", \".tgz\")):\n",
        "            tarfile.open(name=file_path, mode='r:gz').extractall(down_dir)\n",
        "\n",
        "        print('Extract successfully')\n",
        "    else:\n",
        "        print('File already dowloaded')"
      ],
      "execution_count": 0,
      "outputs": []
    },
    {
      "cell_type": "code",
      "metadata": {
        "id": "7YpNBnVzbOoP",
        "colab_type": "code",
        "colab": {}
      },
      "source": [
        "#Define fuction to unpickle data\n",
        "\n",
        "def unpickle(filename):\n",
        "    #get the full path of file\n",
        "    file_path=os.path.join(data_path, \"cifar-10-batches-py/\", filename)\n",
        "\n",
        "    print('Loadind data: '+ file_path)\n",
        "\n",
        "    with open(file_path, 'rb') as file:\n",
        "        data= pickle.load(file, encoding='bytes')\n",
        "    return data"
      ],
      "execution_count": 0,
      "outputs": []
    },
    {
      "cell_type": "code",
      "metadata": {
        "id": "U_lAd807db_Q",
        "colab_type": "code",
        "colab": {}
      },
      "source": [
        "def load_data(filename):\n",
        "\n",
        "    #Get the raw data and labels from the funtion 'unpickle'\n",
        "    data=unpickle(filename)\n",
        "    raw_imgs=np.array(data[b'data'])\n",
        "    classes=np.array(data[b'labels'])\n",
        "    \n",
        "    #Reshape images into our dimension\n",
        "    imgs=raw_imgs.reshape([-1, num_channels, img_size, img_size])\n",
        "\n",
        "    #Transpose to reoder the dimension\n",
        "    imgs=imgs.transpose([0,2,3,1])\n",
        "    \n",
        "    return imgs, classes"
      ],
      "execution_count": 0,
      "outputs": []
    },
    {
      "cell_type": "code",
      "metadata": {
        "id": "1pkrin-8YrI6",
        "colab_type": "code",
        "colab": {}
      },
      "source": [
        "#Define fuction to load the class name\n",
        "def load_class_name():\n",
        "    #Load data from 'batches.meta' location\n",
        "\n",
        "    raw_data= unpickle('batches.meta')[b'label_names']\n",
        "\n",
        "    #Encode data to string\n",
        "    names=[x.decode('utf-8') for x in raw_data]\n",
        "    return names"
      ],
      "execution_count": 0,
      "outputs": []
    },
    {
      "cell_type": "code",
      "metadata": {
        "id": "ysXCsaNgc3Zp",
        "colab_type": "code",
        "colab": {}
      },
      "source": [
        "#Define fuction to load training set\n",
        "def load_training_data():\n",
        "\n",
        "    #Define the zero array to pre-allocte training set\n",
        "\n",
        "    imgs=np.zeros([_num_files_train*_num_imgages_per_file, img_size, img_size, num_channels], dtype=int)\n",
        "    labels= np.zeros([_num_files_train*_num_imgages_per_file], dtype=int)\n",
        "\n",
        "    #The starting index of batches\n",
        "    j=0\n",
        "    for i in range(_num_files_train):\n",
        "        images_batch, classes_batch=load_data('data_batch_' + str(i+1))\n",
        "\n",
        "        #get the length of images_batch\n",
        "        num_imgs=len(images_batch)\n",
        "        #Plug this images to our array\n",
        "        \n",
        "        imgs[j: j+num_imgs, :]=images_batch\n",
        "        labels[j: j+num_imgs]=classes_batch\n",
        "        j+=num_imgs\n",
        "\n",
        "    #Convert the labels into one hot vector\n",
        "    one_hot=np.eye(num_classes)[labels.reshape(-1)]\n",
        "\n",
        "    return imgs, one_hot, labels"
      ],
      "execution_count": 0,
      "outputs": []
    },
    {
      "cell_type": "code",
      "metadata": {
        "id": "j2H-kwpAkqW1",
        "colab_type": "code",
        "colab": {}
      },
      "source": [
        "#Define the function to load test set\n",
        "def load_test_data():\n",
        "    imgs, labels=load_data('test_batch')\n",
        "    #Convert to one hot vector\n",
        "    one_hot=np.eye(num_classes)[labels.reshape(-1)]\n",
        "    return imgs, one_hot, labels"
      ],
      "execution_count": 0,
      "outputs": []
    },
    {
      "cell_type": "code",
      "metadata": {
        "id": "cJ2E75noncWV",
        "colab_type": "code",
        "colab": {
          "base_uri": "https://localhost:8080/",
          "height": 51
        },
        "outputId": "86580bf1-bba5-4db4-ebcf-16276682a058"
      },
      "source": [
        "# Download data \n",
        "download_and_extract(url, data_path)"
      ],
      "execution_count": 27,
      "outputs": [
        {
          "output_type": "stream",
          "text": [
            "Download successfully\n",
            "Extract successfully\n"
          ],
          "name": "stdout"
        }
      ]
    },
    {
      "cell_type": "code",
      "metadata": {
        "id": "yDxnwqhqnoei",
        "colab_type": "code",
        "colab": {
          "base_uri": "https://localhost:8080/",
          "height": 51
        },
        "outputId": "0bdf7e1e-c478-4cf8-e3ed-3207573f152e"
      },
      "source": [
        "#Get the class names\n",
        "class_names=load_class_name()\n",
        "print(class_names)"
      ],
      "execution_count": 28,
      "outputs": [
        {
          "output_type": "stream",
          "text": [
            "Loadind data: data/CIFAR-10/cifar-10-batches-py/batches.meta\n",
            "['airplane', 'automobile', 'bird', 'cat', 'deer', 'dog', 'frog', 'horse', 'ship', 'truck']\n"
          ],
          "name": "stdout"
        }
      ]
    },
    {
      "cell_type": "code",
      "metadata": {
        "id": "0ac9essOoZr1",
        "colab_type": "code",
        "colab": {
          "base_uri": "https://localhost:8080/",
          "height": 153
        },
        "outputId": "68a60e08-1ed7-4384-e55f-5ccdc3a2c833"
      },
      "source": [
        "# Load training set\n",
        "X_train_org, y_train, y_train_cls=load_training_data()\n",
        "print('Shape of the training set {0}'.format(X_train_org.shape))\n",
        "print('Shape of the training one hot label {0}'.format(y_train.shape))\n",
        "print('Shape of the training lable {0}'.format(y_train_cls.shape))"
      ],
      "execution_count": 45,
      "outputs": [
        {
          "output_type": "stream",
          "text": [
            "Loadind data: data/CIFAR-10/cifar-10-batches-py/data_batch_1\n",
            "Loadind data: data/CIFAR-10/cifar-10-batches-py/data_batch_2\n",
            "Loadind data: data/CIFAR-10/cifar-10-batches-py/data_batch_3\n",
            "Loadind data: data/CIFAR-10/cifar-10-batches-py/data_batch_4\n",
            "Loadind data: data/CIFAR-10/cifar-10-batches-py/data_batch_5\n",
            "Shape of the training set (50000, 32, 32, 3)\n",
            "Shape of the training one hot label (50000, 10)\n",
            "Shape of the training lable (50000,)\n"
          ],
          "name": "stdout"
        }
      ]
    },
    {
      "cell_type": "code",
      "metadata": {
        "id": "c49LOw94o-9k",
        "colab_type": "code",
        "colab": {
          "base_uri": "https://localhost:8080/",
          "height": 85
        },
        "outputId": "e26697be-d0bd-4112-c4f9-754defda21e0"
      },
      "source": [
        "#Load test set\n",
        "X_test_org, y_test, y_test_cls=load_test_data()\n",
        "print('Shape of the test set {0}'.format(X_test_org.shape))\n",
        "print('Shape of the test one hot label {0}'.format(y_test.shape))\n",
        "print('Shape of the test lable {0}'.format(y_test_cls.shape))"
      ],
      "execution_count": 47,
      "outputs": [
        {
          "output_type": "stream",
          "text": [
            "Loadind data: data/CIFAR-10/cifar-10-batches-py/test_batch\n",
            "Shape of the test set (10000, 32, 32, 3)\n",
            "Shape of the test one hot label (10000, 10)\n",
            "Shape of the test lable (10000,)\n"
          ],
          "name": "stdout"
        }
      ]
    },
    {
      "cell_type": "markdown",
      "metadata": {
        "id": "W1TQDmwsp7Dy",
        "colab_type": "text"
      },
      "source": [
        "### Visualize the images"
      ]
    },
    {
      "cell_type": "code",
      "metadata": {
        "id": "nYc59BErq7H0",
        "colab_type": "code",
        "colab": {}
      },
      "source": [
        "import matplotlib.pyplot as plt"
      ],
      "execution_count": 0,
      "outputs": []
    },
    {
      "cell_type": "code",
      "metadata": {
        "id": "L2kHmlQapvVz",
        "colab_type": "code",
        "colab": {}
      },
      "source": [
        "#Define function to plot the image\n",
        "def plot_images(images, cls_true, cls_pred=None):\n",
        "    plt.figure(figsize=(5,5))\n",
        "    \n",
        "    for i in range(min(9, len(images))):\n",
        "        plt.subplot(3,3,i+1)\n",
        "\n",
        "        if cls_pred is None:\n",
        "            plt.xlabel('True: {0}'.format(class_names[cls_true[i]]))\n",
        "        else:\n",
        "            plt.xlabel('True: {0}, Pred: {0}'.format(class_names[cls_true[i]], class_names[cls_pred[i]]))\n",
        "        plt.xticks([])\n",
        "        plt.yticks([])\n",
        "        plt.imshow(images[i])\n",
        "    plt.show()"
      ],
      "execution_count": 0,
      "outputs": []
    },
    {
      "cell_type": "code",
      "metadata": {
        "id": "xg-VeOdlqcZn",
        "colab_type": "code",
        "colab": {
          "base_uri": "https://localhost:8080/",
          "height": 317
        },
        "outputId": "a78f02b3-291a-43bc-f714-922b091391a2"
      },
      "source": [
        "plot_images(X_train_org, y_train_cls)"
      ],
      "execution_count": 52,
      "outputs": [
        {
          "output_type": "display_data",
          "data": {
            "image/png": "[encoded data removed]",
            "text/plain": [
              "<Figure size 360x360 with 9 Axes>"
            ]
          },
          "metadata": {
            "tags": []
          }
        }
      ]
    },
    {
      "cell_type": "code",
      "metadata": {
        "id": "s4umPvRpq5Uz",
        "colab_type": "code",
        "colab": {}
      },
      "source": [
        "#Define the function to plot the wrong prediction\n",
        "def plot_incorrect_imagers(images,cls_true, cls_pred):\n",
        "    plt.figure(figsize=(5,5))\n",
        "\n",
        "    incorrect= cls_true != cls_pred\n",
        "    incorret_images=images[incorrect]\n",
        "    \n",
        "    plot_images(incorret_images,cls_true[incorrect],cls_pred[incorrect] )"
      ],
      "execution_count": 0,
      "outputs": []
    },
    {
      "cell_type": "code",
      "metadata": {
        "id": "H2E3X9n7s9CJ",
        "colab_type": "code",
        "colab": {}
      },
      "source": [
        ""
      ],
      "execution_count": 0,
      "outputs": []
    }
  ]
}