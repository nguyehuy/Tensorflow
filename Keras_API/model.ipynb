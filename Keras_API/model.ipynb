{
  "nbformat": 4,
  "nbformat_minor": 0,
  "metadata": {
    "colab": {
      "name": "Untitled0.ipynb",
      "provenance": []
    },
    "kernelspec": {
      "name": "python3",
      "display_name": "Python 3"
    }
  },
  "cells": [
    {
      "cell_type": "code",
      "metadata": {
        "id": "6hPfpTAkrEge",
        "colab_type": "code",
        "outputId": "8ed076f9-91ec-4288-cdcb-ae835f04c1d2",
        "colab": {
          "base_uri": "https://localhost:8080/",
          "height": 224
        }
      },
      "source": [
        "!apt-get install -y -qq software-properties-common python-software-properties module-init-tools\n",
        "!add-apt-repository -y ppa:alessandro-strada/ppa 2>&1 > /dev/null\n",
        "!apt-get update -qq 2>&1 > /dev/null\n",
        "!apt-get -y install -qq google-drive-ocamlfuse fuse\n",
        "from google.colab import auth\n",
        "auth.authenticate_user()\n",
        "from oauth2client.client import GoogleCredentials\n",
        "creds = GoogleCredentials.get_application_default()\n",
        "import getpass\n",
        "!google-drive-ocamlfuse -headless -id={creds.client_id} -secret={creds.client_secret} < /dev/null 2>&1 | grep URL\n",
        "vcode = getpass.getpass()\n",
        "!echo {vcode} | google-drive-ocamlfuse -headless -id={creds.client_id} -secret={creds.client_secret}"
      ],
      "execution_count": 2,
      "outputs": [
        {
          "output_type": "stream",
          "text": [
            "E: Package 'python-software-properties' has no installation candidate\n",
            "Selecting previously unselected package google-drive-ocamlfuse.\n",
            "(Reading database ... 134985 files and directories currently installed.)\n",
            "Preparing to unpack .../google-drive-ocamlfuse_0.7.14-0ubuntu1~ubuntu18.04.1_amd64.deb ...\n",
            "Unpacking google-drive-ocamlfuse (0.7.14-0ubuntu1~ubuntu18.04.1) ...\n",
            "Setting up google-drive-ocamlfuse (0.7.14-0ubuntu1~ubuntu18.04.1) ...\n",
            "Processing triggers for man-db (2.8.3-2ubuntu0.1) ...\n",
            "Please, open the following URL in a web browser: https://accounts.google.com/o/oauth2/auth?client_id=32555940559.apps.googleusercontent.com&redirect_uri=urn%3Aietf%3Awg%3Aoauth%3A2.0%3Aoob&scope=https%3A%2F%2Fwww.googleapis.com%2Fauth%2Fdrive&response_type=code&access_type=offline&approval_prompt=force\n",
            "··········\n",
            "Please, open the following URL in a web browser: https://accounts.google.com/o/oauth2/auth?client_id=32555940559.apps.googleusercontent.com&redirect_uri=urn%3Aietf%3Awg%3Aoauth%3A2.0%3Aoob&scope=https%3A%2F%2Fwww.googleapis.com%2Fauth%2Fdrive&response_type=code&access_type=offline&approval_prompt=force\n",
            "Please enter the verification code: Access token retrieved correctly.\n"
          ],
          "name": "stdout"
        }
      ]
    },
    {
      "cell_type": "code",
      "metadata": {
        "id": "4SXNGhH7rIAY",
        "colab_type": "code",
        "colab": {}
      },
      "source": [
        "!mkdir -p drive\n",
        "!google-drive-ocamlfuse drive"
      ],
      "execution_count": 0,
      "outputs": []
    },
    {
      "cell_type": "code",
      "metadata": {
        "id": "y8X7vxsLrlw1",
        "colab_type": "code",
        "colab": {}
      },
      "source": [
        "import os\n",
        "os.chdir('drive/Tensorflow/Keras_API')"
      ],
      "execution_count": 0,
      "outputs": []
    },
    {
      "cell_type": "code",
      "metadata": {
        "id": "Aru8cmuerq6R",
        "colab_type": "code",
        "colab": {
          "base_uri": "https://localhost:8080/",
          "height": 63
        },
        "outputId": "aaa04170-e340-4a54-faeb-2005cf5adc91"
      },
      "source": [
        "import matplotlib.pyplot as plt\n",
        "import tensorflow as tf\n",
        "import numpy as np\n"
      ],
      "execution_count": 5,
      "outputs": [
        {
          "output_type": "display_data",
          "data": {
            "text/html": [
              "<p style=\"color: red;\">\n",
              "The default version of TensorFlow in Colab will soon switch to TensorFlow 2.x.<br>\n",
              "We recommend you <a href=\"https://www.tensorflow.org/guide/migrate\" target=\"_blank\">upgrade</a> now \n",
              "or ensure your notebook will continue to use TensorFlow 1.x via the <code>%tensorflow_version 1.x</code> magic:\n",
              "<a href=\"https://colab.research.google.com/notebooks/tensorflow_version.ipynb\" target=\"_blank\">more info</a>.</p>\n"
            ],
            "text/plain": [
              "<IPython.core.display.HTML object>"
            ]
          },
          "metadata": {
            "tags": []
          }
        }
      ]
    },
    {
      "cell_type": "code",
      "metadata": {
        "id": "JK4b0lUAsAHV",
        "colab_type": "code",
        "colab": {}
      },
      "source": [
        "from tensorflow.keras import  Sequential\n",
        "from tensorflow.keras.models import  Model\n",
        "from tensorflow.keras.layers import InputLayer, Input, Reshape, MaxPool2D, Conv2D, Dense, Flatten, Activation, Dropout, MaxPooling2D\n",
        "from tensorflow.keras.layers import BatchNormalization, ZeroPadding2D \n",
        "from tensorflow.keras import regularizers, optimizers\n",
        "from keras.initializers import glorot_uniform\n",
        "import matplotlib.pyplot as plt "
      ],
      "execution_count": 0,
      "outputs": []
    },
    {
      "cell_type": "code",
      "metadata": {
        "id": "KctjE8IYyjLc",
        "colab_type": "code",
        "outputId": "39e6fcef-8fae-45ce-9d89-7032dde67abb",
        "colab": {
          "base_uri": "https://localhost:8080/",
          "height": 411
        }
      },
      "source": [
        "from tensorflow.examples.tutorials.mnist import input_data\n",
        "data=input_data.read_data_sets('data/MNIST/', one_hot=True)"
      ],
      "execution_count": 7,
      "outputs": [
        {
          "output_type": "stream",
          "text": [
            "WARNING:tensorflow:From <ipython-input-7-edb9644c7fa7>:2: read_data_sets (from tensorflow.contrib.learn.python.learn.datasets.mnist) is deprecated and will be removed in a future version.\n",
            "Instructions for updating:\n",
            "Please use alternatives such as official/mnist/dataset.py from tensorflow/models.\n",
            "WARNING:tensorflow:From /usr/local/lib/python3.6/dist-packages/tensorflow_core/contrib/learn/python/learn/datasets/mnist.py:260: maybe_download (from tensorflow.contrib.learn.python.learn.datasets.base) is deprecated and will be removed in a future version.\n",
            "Instructions for updating:\n",
            "Please write your own downloading logic.\n",
            "WARNING:tensorflow:From /usr/local/lib/python3.6/dist-packages/tensorflow_core/contrib/learn/python/learn/datasets/mnist.py:262: extract_images (from tensorflow.contrib.learn.python.learn.datasets.mnist) is deprecated and will be removed in a future version.\n",
            "Instructions for updating:\n",
            "Please use tf.data to implement this functionality.\n",
            "Extracting data/MNIST/train-images-idx3-ubyte.gz\n",
            "WARNING:tensorflow:From /usr/local/lib/python3.6/dist-packages/tensorflow_core/contrib/learn/python/learn/datasets/mnist.py:267: extract_labels (from tensorflow.contrib.learn.python.learn.datasets.mnist) is deprecated and will be removed in a future version.\n",
            "Instructions for updating:\n",
            "Please use tf.data to implement this functionality.\n",
            "Extracting data/MNIST/train-labels-idx1-ubyte.gz\n",
            "WARNING:tensorflow:From /usr/local/lib/python3.6/dist-packages/tensorflow_core/contrib/learn/python/learn/datasets/mnist.py:110: dense_to_one_hot (from tensorflow.contrib.learn.python.learn.datasets.mnist) is deprecated and will be removed in a future version.\n",
            "Instructions for updating:\n",
            "Please use tf.one_hot on tensors.\n",
            "Extracting data/MNIST/t10k-images-idx3-ubyte.gz\n",
            "Extracting data/MNIST/t10k-labels-idx1-ubyte.gz\n",
            "WARNING:tensorflow:From /usr/local/lib/python3.6/dist-packages/tensorflow_core/contrib/learn/python/learn/datasets/mnist.py:290: DataSet.__init__ (from tensorflow.contrib.learn.python.learn.datasets.mnist) is deprecated and will be removed in a future version.\n",
            "Instructions for updating:\n",
            "Please use alternatives such as official/mnist/dataset.py from tensorflow/models.\n"
          ],
          "name": "stdout"
        }
      ]
    },
    {
      "cell_type": "code",
      "metadata": {
        "id": "4jVTD2DlC88C",
        "colab_type": "code",
        "colab": {}
      },
      "source": [
        "img_size= 28\n",
        "\n",
        "img_size_flat= img_size* img_size\n",
        "\n"
      ],
      "execution_count": 0,
      "outputs": []
    },
    {
      "cell_type": "code",
      "metadata": {
        "id": "5z8YkXB47DvL",
        "colab_type": "code",
        "colab": {}
      },
      "source": [
        "#Plot the correct images\n",
        "def plot_images(images,cls_true, cls_pred=None):\n",
        "    plt.figure(figsize=(5,5))\n",
        "\n",
        "    for i in range(min(9, len(images))):\n",
        "        plt.subplot(3,3,i+1)\n",
        "\n",
        "        if cls_pred is None:\n",
        "            plt.xlabel('True: {0}'.format(cls_true[i]))\n",
        "        else:\n",
        "            plt.xlabel('True: {0}, Pred: {0}'.format(cls_true[i], cls_pred))\n",
        "        plt.xticks([])\n",
        "        plt.yticks([])\n",
        "        plt.imshow(images[i])\n",
        "    plt.show()\n",
        "\n"
      ],
      "execution_count": 0,
      "outputs": []
    },
    {
      "cell_type": "code",
      "metadata": {
        "id": "tk-3smue-A5C",
        "colab_type": "code",
        "colab": {}
      },
      "source": [
        "#Plot the incorrect predictions function\n",
        "def plot_incorrect_imagers(images,cls_true, cls_pred):\n",
        "    plt.figure(figsize=(5,5))\n",
        "\n",
        "    incorrect= cls_true != cls_pred\n",
        "    incorret_images=images[incorrect]\n",
        "    \n",
        "    plot_images(incorret_images,cls_true[incorrect],cls_pred[incorrect]  )"
      ],
      "execution_count": 0,
      "outputs": []
    },
    {
      "cell_type": "code",
      "metadata": {
        "id": "syGcn7-9B7Tb",
        "colab_type": "code",
        "colab": {}
      },
      "source": [
        "# Load data fuction\n",
        "def load_data():\n",
        "    from tensorflow.examples.tutorials.mnist import input_data\n",
        "    data=input_data.read_data_sets('data/MNIST/', one_hot=True)\n",
        "\n",
        "    X_train=np.asarray(data.train.images.reshape(-1, img_size, img_size))\n",
        "    y_train=np.asarray(data.train.labels)\n",
        "\n",
        "    X_test=np.asarray(data.test.images.reshape(-1, img_size, img_size))\n",
        "    y_test=np.asarray(data.test.labels)\n",
        "\n",
        "    y_train_cls=np.argmax(y_train, axis=1)\n",
        "    y_test_cls=np.argmax(y_test, axis=1)\n",
        "\n",
        "    return X_train, y_train, X_test, y_test, y_train_cls, y_test_cls\n",
        "    \n"
      ],
      "execution_count": 0,
      "outputs": []
    },
    {
      "cell_type": "code",
      "metadata": {
        "id": "4nw5jxKVFKP5",
        "colab_type": "code",
        "outputId": "13914c2f-d999-4091-b052-76f2f8fe8be4",
        "colab": {
          "base_uri": "https://localhost:8080/",
          "height": 85
        }
      },
      "source": [
        "#Load data from mnist\n",
        "X_train, y_train, X_test, y_test, y_train_cls, y_test_cls=load_data()"
      ],
      "execution_count": 30,
      "outputs": [
        {
          "output_type": "stream",
          "text": [
            "Extracting data/MNIST/train-images-idx3-ubyte.gz\n",
            "Extracting data/MNIST/train-labels-idx1-ubyte.gz\n",
            "Extracting data/MNIST/t10k-images-idx3-ubyte.gz\n",
            "Extracting data/MNIST/t10k-labels-idx1-ubyte.gz\n"
          ],
          "name": "stdout"
        }
      ]
    },
    {
      "cell_type": "code",
      "metadata": {
        "id": "zJcidWWaBBbh",
        "colab_type": "code",
        "colab": {
          "base_uri": "https://localhost:8080/",
          "height": 34
        },
        "outputId": "5ff5cefc-a95f-42b1-a30c-bf4b39d35303"
      },
      "source": [
        "y_train_cls"
      ],
      "execution_count": 27,
      "outputs": [
        {
          "output_type": "execute_result",
          "data": {
            "text/plain": [
              "array([7, 3, 4, ..., 5, 6, 8])"
            ]
          },
          "metadata": {
            "tags": []
          },
          "execution_count": 27
        }
      ]
    },
    {
      "cell_type": "code",
      "metadata": {
        "id": "a3QC_YeIAWtk",
        "colab_type": "code",
        "colab": {
          "base_uri": "https://localhost:8080/",
          "height": 317
        },
        "outputId": "e0ccb0e7-150b-40d3-89d1-123d81b95038"
      },
      "source": [
        "#Plot the images\n",
        "plot_images(X_train,y_train_cls)"
      ],
      "execution_count": 34,
      "outputs": [
        {
          "output_type": "display_data",
          "data": {
            "image/png": "[encoded data removed]",
            "text/plain": [
              "<Figure size 360x360 with 9 Axes>"
            ]
          },
          "metadata": {
            "tags": []
          }
        }
      ]
    },
    {
      "cell_type": "code",
      "metadata": {
        "id": "WTxp6mWkGj_G",
        "colab_type": "code",
        "colab": {}
      },
      "source": [
        "#Nomalize the data\n",
        "X_train=X_train/255\n",
        "X_test=X_test/255"
      ],
      "execution_count": 0,
      "outputs": []
    },
    {
      "cell_type": "code",
      "metadata": {
        "id": "awfi_azOGwxz",
        "colab_type": "code",
        "colab": {}
      },
      "source": [
        "\n",
        "def imgModel(img_size):\n",
        "\n",
        "    X_input=Input(shape=(img_size, img_size))\n",
        "\n",
        "    #Reshape the inpuit\n",
        "    net=Reshape((img_size, img_size, 1))(X_input)\n",
        "    # First convolutional layer with ReLU-activation and max-pooling.\n",
        "    net = Conv2D(kernel_size=5, strides=1, filters=16, padding='same',\n",
        "             activation='relu', name='layer_conv1')(net)\n",
        "    net = MaxPooling2D(pool_size=2, strides=2)(net)\n",
        "\n",
        "    # Second convolutional layer with ReLU-activation and max-pooling.\n",
        "    net = Conv2D(kernel_size=5, strides=1, filters=36, padding='same',\n",
        "             activation='relu', name='layer_conv2')(net)\n",
        "    net = MaxPooling2D(pool_size=2, strides=2)(net)\n",
        "\n",
        "    # Flatten the output of the conv-layer from 4-dim to 2-dim.\n",
        "    net = Flatten()(net)\n",
        "\n",
        "    # First fully-connected / dense layer with ReLU-activation.\n",
        "    net = Dense(128, activation='relu')(net)\n",
        "\n",
        "    # Last fully-connected / dense layer with softmax-activation\n",
        "    # so it can be used for classification.\n",
        "    net = Dense(10, activation='softmax')(net)\n",
        "    outputs = net\n",
        "    \n",
        "    model= Model(inputs=X_input, outputs=outputs)  \n",
        "    return model\n"
      ],
      "execution_count": 0,
      "outputs": []
    },
    {
      "cell_type": "code",
      "metadata": {
        "id": "ep_Q3SLhLdFS",
        "colab_type": "code",
        "outputId": "ad468c94-79ee-4064-f72b-02603a6bff1f",
        "colab": {
          "base_uri": "https://localhost:8080/",
          "height": 88
        }
      },
      "source": [
        "model=imgModel(img_size)"
      ],
      "execution_count": 48,
      "outputs": [
        {
          "output_type": "stream",
          "text": [
            "WARNING:tensorflow:From /usr/local/lib/python3.6/dist-packages/tensorflow_core/python/ops/resource_variable_ops.py:1630: calling BaseResourceVariable.__init__ (from tensorflow.python.ops.resource_variable_ops) with constraint is deprecated and will be removed in a future version.\n",
            "Instructions for updating:\n",
            "If using Keras pass *_constraint arguments to layers.\n"
          ],
          "name": "stdout"
        }
      ]
    },
    {
      "cell_type": "code",
      "metadata": {
        "id": "zCfM_XXfNV8M",
        "colab_type": "code",
        "outputId": "ef7eb34c-568b-4e4b-f1e0-8683c4173950",
        "colab": {
          "base_uri": "https://localhost:8080/",
          "height": 459
        }
      },
      "source": [
        "model.summary()"
      ],
      "execution_count": 49,
      "outputs": [
        {
          "output_type": "stream",
          "text": [
            "Model: \"model\"\n",
            "_________________________________________________________________\n",
            "Layer (type)                 Output Shape              Param #   \n",
            "=================================================================\n",
            "input_7 (InputLayer)         [(None, 28, 28)]          0         \n",
            "_________________________________________________________________\n",
            "reshape_5 (Reshape)          (None, 28, 28, 1)         0         \n",
            "_________________________________________________________________\n",
            "layer_conv1 (Conv2D)         (None, 28, 28, 16)        416       \n",
            "_________________________________________________________________\n",
            "max_pooling2d (MaxPooling2D) (None, 14, 14, 16)        0         \n",
            "_________________________________________________________________\n",
            "layer_conv2 (Conv2D)         (None, 14, 14, 36)        14436     \n",
            "_________________________________________________________________\n",
            "max_pooling2d_1 (MaxPooling2 (None, 7, 7, 36)          0         \n",
            "_________________________________________________________________\n",
            "flatten (Flatten)            (None, 1764)              0         \n",
            "_________________________________________________________________\n",
            "dense (Dense)                (None, 128)               225920    \n",
            "_________________________________________________________________\n",
            "dense_1 (Dense)              (None, 10)                1290      \n",
            "=================================================================\n",
            "Total params: 242,062\n",
            "Trainable params: 242,062\n",
            "Non-trainable params: 0\n",
            "_________________________________________________________________\n"
          ],
          "name": "stdout"
        }
      ]
    },
    {
      "cell_type": "code",
      "metadata": {
        "id": "eYml3ROTP5yU",
        "colab_type": "code",
        "colab": {}
      },
      "source": [
        "model.compile(loss='categorical_crossentropy', optimizer='Adam', metrics=['accuracy'])"
      ],
      "execution_count": 0,
      "outputs": []
    },
    {
      "cell_type": "code",
      "metadata": {
        "id": "PlgiX03VQVoR",
        "colab_type": "code",
        "outputId": "dd64075f-5aa3-4463-d964-9e39baf3b412",
        "colab": {
          "base_uri": "https://localhost:8080/",
          "height": 306
        }
      },
      "source": [
        "history=model.fit(X_train, y_train, batch_size=256, epochs=8, validation_data=(X_test, y_test))"
      ],
      "execution_count": 59,
      "outputs": [
        {
          "output_type": "stream",
          "text": [
            "Train on 55000 samples, validate on 10000 samples\n",
            "Epoch 1/8\n",
            "55000/55000 [==============================] - 55s 1ms/sample - loss: 0.0154 - acc: 0.9951 - val_loss: 0.0344 - val_acc: 0.9896\n",
            "Epoch 2/8\n",
            "55000/55000 [==============================] - 55s 1ms/sample - loss: 0.0147 - acc: 0.9954 - val_loss: 0.0364 - val_acc: 0.9886\n",
            "Epoch 3/8\n",
            "55000/55000 [==============================] - 56s 1ms/sample - loss: 0.0111 - acc: 0.9965 - val_loss: 0.0334 - val_acc: 0.9891\n",
            "Epoch 4/8\n",
            "55000/55000 [==============================] - 55s 1ms/sample - loss: 0.0091 - acc: 0.9970 - val_loss: 0.0311 - val_acc: 0.9904\n",
            "Epoch 5/8\n",
            "55000/55000 [==============================] - 55s 1ms/sample - loss: 0.0086 - acc: 0.9973 - val_loss: 0.0303 - val_acc: 0.9911\n",
            "Epoch 6/8\n",
            "55000/55000 [==============================] - 55s 1ms/sample - loss: 0.0071 - acc: 0.9979 - val_loss: 0.0310 - val_acc: 0.9912\n",
            "Epoch 7/8\n",
            "55000/55000 [==============================] - 55s 1ms/sample - loss: 0.0064 - acc: 0.9979 - val_loss: 0.0340 - val_acc: 0.9907\n",
            "Epoch 8/8\n",
            "55000/55000 [==============================] - 55s 1ms/sample - loss: 0.0053 - acc: 0.9984 - val_loss: 0.0329 - val_acc: 0.9914\n"
          ],
          "name": "stdout"
        }
      ]
    },
    {
      "cell_type": "code",
      "metadata": {
        "id": "D7TzcZdUIEQE",
        "colab_type": "code",
        "colab": {
          "base_uri": "https://localhost:8080/",
          "height": 51
        },
        "outputId": "c0f6e667-0153-42f1-95bd-5bce7c3001e6"
      },
      "source": [
        "#Test accuracy and test value\n",
        "testloss, testacc=model.evaluate(X_test, y_test)\n",
        "print('Test accuracy: {0:.0%}, Test loss: {0:.2f}'.format(testacc, testloss))"
      ],
      "execution_count": 57,
      "outputs": [
        {
          "output_type": "stream",
          "text": [
            "10000/10000 [==============================] - 4s 432us/sample - loss: 0.0314 - acc: 0.9898\n",
            "Test accuracy: 99%, Test loss: 0.99\n"
          ],
          "name": "stdout"
        }
      ]
    },
    {
      "cell_type": "code",
      "metadata": {
        "id": "guvs41_ZSRxe",
        "colab_type": "code",
        "colab": {}
      },
      "source": [
        "def plot_acc_loss(history):\n",
        "\n",
        "    #Plot accuracy\n",
        "    plt.figure(figsize=(10,10))\n",
        "    plt.plot(history.history['acc'], label='Training Acuracy')\n",
        "    plt.plot(history.history['val_acc'], label='Test Acuracy')\n",
        "    plt.ylabel('Accuracy')\n",
        "    plt.xlabel('Epochs')\n",
        "    plt.legend()\n",
        "    plt.show()\n",
        "\n",
        "    #Plot loss \n",
        "    plt.figure(figsize=(10,10))\n",
        "    plt.plot(history.history['loss'], label='Training Loss')\n",
        "    plt.plot(history.history['val_loss'], label='Test Loss')\n",
        "    plt.ylabel('Loss')\n",
        "    plt.xlabel('Epochs')\n",
        "    plt.legend()\n",
        "    plt.show()\n"
      ],
      "execution_count": 0,
      "outputs": []
    },
    {
      "cell_type": "code",
      "metadata": {
        "id": "azffpomPJXQg",
        "colab_type": "code",
        "colab": {
          "base_uri": "https://localhost:8080/",
          "height": 1000
        },
        "outputId": "96e5a6c0-ad03-4fe8-f12d-734e524d938a"
      },
      "source": [
        "plot_acc_loss(history)"
      ],
      "execution_count": 68,
      "outputs": [
        {
          "output_type": "display_data",
          "data": {
            "image/png": "[encoded data removed]",
            "text/plain": [
              "<Figure size 720x720 with 1 Axes>"
            ]
          },
          "metadata": {
            "tags": []
          }
        },
        {
          "output_type": "display_data",
          "data": {
            "image/png": "[encoded data removed]",
            "text/plain": [
              "<Figure size 720x720 with 1 Axes>"
            ]
          },
          "metadata": {
            "tags": []
          }
        }
      ]
    },
    {
      "cell_type": "code",
      "metadata": {
        "id": "mtqrLz-sOps7",
        "colab_type": "code",
        "colab": {}
      },
      "source": [
        ""
      ],
      "execution_count": 0,
      "outputs": []
    },
    {
      "cell_type": "code",
      "metadata": {
        "id": "Wk8sD0sIPJjX",
        "colab_type": "code",
        "colab": {}
      },
      "source": [
        ""
      ],
      "execution_count": 0,
      "outputs": []
    }
  ]
}